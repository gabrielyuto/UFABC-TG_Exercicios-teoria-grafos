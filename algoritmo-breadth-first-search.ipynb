{
 "cells": [
  {
   "cell_type": "markdown",
   "metadata": {},
   "source": [
    "# EP 02: visita BFS\n",
    "\n",
    "Usar:\n",
    "- leitura de grafo: vetor com listas de adjacências\n",
    "- operações com Fila..."
   ]
  },
  {
   "cell_type": "markdown",
   "metadata": {},
   "source": [
    "### Estrutura de Fila\n",
    "\n",
    "Operações com Fila Q:\n",
    "- insere (Q, x): insere x no fim da fila Q\n",
    "- remove (Q): remove o elemento x que está no início da fila e devolve x\n",
    "- vazio (Q): devolve True se fila vazia, False caso contrário"
   ]
  },
  {
   "cell_type": "code",
   "execution_count": 1,
   "metadata": {},
   "outputs": [],
   "source": [
    "# Assume que Q eh uma lista\n",
    "def insere(Q, x):\n",
    "  Q.append(x)\n",
    "\n",
    "def remove(Q):\n",
    "  return Q.pop(0)\n",
    "\n",
    "def vazio(Q):\n",
    "  return len(Q) == 0\n"
   ]
  },
  {
   "cell_type": "code",
   "execution_count": 2,
   "metadata": {},
   "outputs": [
    {
     "name": "stdout",
     "output_type": "stream",
     "text": [
      "1: 1 0 1 2 1 3\n"
     ]
    }
   ],
   "source": [
    "# n: número de vértices\n",
    "# m: número de arestas\n",
    "# s = vértice inicial\n",
    "\n",
    "n, m, s = (int(tmp) for tmp in input().split(\" \"))\n",
    "adj = [[] for _ in range(n)]\n",
    "\n",
    "for k in range(m):\n",
    "  i, j = (int(tmp) for tmp in input().split(\" \"))\n",
    "  adj[i].append(j)\n",
    "\n",
    "# Algoritmo BFS\n",
    "\n",
    "# Inicialização\n",
    "# lista das distancias para cada vértice\n",
    "lista_distancias_vertices = [0] * n\n",
    "\n",
    "# lista das cores atribuidas a cada vértice\n",
    "lista_cores_vertices = [0] * n\n",
    "\n",
    "INFINITO = 999999\n",
    "BRANCO = 1\n",
    "CINZA = 2\n",
    "PRETO = 3\n",
    "Q = [s]\n",
    "\n",
    "for v in range(n):\n",
    "  lista_distancias_vertices[v] = INFINITO\n",
    "  lista_cores_vertices[v] = BRANCO\n",
    "\n",
    "while not vazio(Q):\n",
    "  u = remove(Q)\n",
    "  for v in adj[u]:\n",
    "    if lista_cores_vertices[v] == BRANCO:\n",
    "      lista_distancias_vertices[v] = lista_distancias_vertices[u] + 1\n",
    "      lista_cores_vertices[v] = CINZA\n",
    "      insere(Q,v)\n",
    "\n",
    "    lista_cores_vertices[u]= PRETO\n",
    "\n",
    "for i in range(n):\n",
    "  lista_distancias_vertices[i] -= INFINITO\n",
    "\n",
    "saida_formatada = \"%d: \" %s + \" \".join(map(str, lista_distancias_vertices))\n",
    "\n",
    "print(saida_formatada)"
   ]
  }
 ],
 "metadata": {
  "kernelspec": {
   "display_name": ".venv",
   "language": "python",
   "name": "python3"
  },
  "language_info": {
   "codemirror_mode": {
    "name": "ipython",
    "version": 3
   },
   "file_extension": ".py",
   "mimetype": "text/x-python",
   "name": "python",
   "nbconvert_exporter": "python",
   "pygments_lexer": "ipython3",
   "version": "3.11.5"
  },
  "orig_nbformat": 4
 },
 "nbformat": 4,
 "nbformat_minor": 2
}
