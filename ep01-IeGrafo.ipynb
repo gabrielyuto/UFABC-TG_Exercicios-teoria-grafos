{
 "cells": [
  {
   "cell_type": "code",
   "execution_count": null,
   "metadata": {},
   "outputs": [],
   "source": [
    "n, m = (int(tmp) for tmp in input().split(\" \"))\n",
    "matriz = [[0 for col in range(n)] for row in range(n)]\n",
    "\n",
    "for k in range(m):\n",
    "  i, j = (int(tmp) for tmp in input().split(\" \"))\n",
    "  matriz[i][j] = 1\n",
    "\n",
    "for i in range(n):\n",
    "  texto = \"%d: \" % i\n",
    "  for j in range(n):\n",
    "    if (matriz[i][j] == 1):\n",
    "      texto += \"%d \" % j\n",
    "  print(texto)\n"
   ]
  }
 ],
 "metadata": {
  "language_info": {
   "name": "python"
  },
  "orig_nbformat": 4
 },
 "nbformat": 4,
 "nbformat_minor": 2
}
