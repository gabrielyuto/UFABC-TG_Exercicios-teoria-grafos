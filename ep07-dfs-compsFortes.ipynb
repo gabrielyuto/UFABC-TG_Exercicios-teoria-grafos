{
 "cells": [
  {
   "cell_type": "markdown",
   "metadata": {},
   "source": [
    "# EP07 - Componentes Fortes Conexos"
   ]
  },
  {
   "cell_type": "code",
   "execution_count": 32,
   "metadata": {},
   "outputs": [
    {
     "ename": "ValueError",
     "evalue": "not enough values to unpack (expected 2, got 0)",
     "output_type": "error",
     "traceback": [
      "\u001b[0;31m---------------------------------------------------------------------------\u001b[0m",
      "\u001b[0;31mValueError\u001b[0m                                Traceback (most recent call last)",
      "\u001b[1;32m/home/yuto/Documentos/ufabc/TG/teoria-grafos/ep07-dfs-compsFortes.ipynb Cell 2\u001b[0m line \u001b[0;36m5\n\u001b[1;32m     <a href='vscode-notebook-cell:/home/yuto/Documentos/ufabc/TG/teoria-grafos/ep07-dfs-compsFortes.ipynb#W1sZmlsZQ%3D%3D?line=52'>53</a>\u001b[0m \u001b[39m# Encontrar o índice do maior tempo finalização do grafo\u001b[39;00m\n\u001b[1;32m     <a href='vscode-notebook-cell:/home/yuto/Documentos/ufabc/TG/teoria-grafos/ep07-dfs-compsFortes.ipynb#W1sZmlsZQ%3D%3D?line=53'>54</a>\u001b[0m n, m \u001b[39m=\u001b[39m \u001b[39mmap\u001b[39m(\u001b[39mint\u001b[39m, \u001b[39minput\u001b[39m()\u001b[39m.\u001b[39msplit())\n\u001b[0;32m---> <a href='vscode-notebook-cell:/home/yuto/Documentos/ufabc/TG/teoria-grafos/ep07-dfs-compsFortes.ipynb#W1sZmlsZQ%3D%3D?line=54'>55</a>\u001b[0m grafo \u001b[39m=\u001b[39m cria_grafo(n, m)\n\u001b[1;32m     <a href='vscode-notebook-cell:/home/yuto/Documentos/ufabc/TG/teoria-grafos/ep07-dfs-compsFortes.ipynb#W1sZmlsZQ%3D%3D?line=56'>57</a>\u001b[0m visitado \u001b[39m=\u001b[39m [\u001b[39mFalse\u001b[39;00m] \u001b[39m*\u001b[39m n\n\u001b[1;32m     <a href='vscode-notebook-cell:/home/yuto/Documentos/ufabc/TG/teoria-grafos/ep07-dfs-compsFortes.ipynb#W1sZmlsZQ%3D%3D?line=57'>58</a>\u001b[0m descoberto \u001b[39m=\u001b[39m [\u001b[39m0\u001b[39m] \u001b[39m*\u001b[39m n\n",
      "\u001b[1;32m/home/yuto/Documentos/ufabc/TG/teoria-grafos/ep07-dfs-compsFortes.ipynb Cell 2\u001b[0m line \u001b[0;36m5\n\u001b[1;32m      <a href='vscode-notebook-cell:/home/yuto/Documentos/ufabc/TG/teoria-grafos/ep07-dfs-compsFortes.ipynb#W1sZmlsZQ%3D%3D?line=1'>2</a>\u001b[0m grafo \u001b[39m=\u001b[39m [[] \u001b[39mfor\u001b[39;00m _ \u001b[39min\u001b[39;00m \u001b[39mrange\u001b[39m(n)]\n\u001b[1;32m      <a href='vscode-notebook-cell:/home/yuto/Documentos/ufabc/TG/teoria-grafos/ep07-dfs-compsFortes.ipynb#W1sZmlsZQ%3D%3D?line=3'>4</a>\u001b[0m \u001b[39mfor\u001b[39;00m _ \u001b[39min\u001b[39;00m \u001b[39mrange\u001b[39m(m):\n\u001b[0;32m----> <a href='vscode-notebook-cell:/home/yuto/Documentos/ufabc/TG/teoria-grafos/ep07-dfs-compsFortes.ipynb#W1sZmlsZQ%3D%3D?line=4'>5</a>\u001b[0m   u, v \u001b[39m=\u001b[39m \u001b[39mmap\u001b[39m(\u001b[39mint\u001b[39m, \u001b[39minput\u001b[39m()\u001b[39m.\u001b[39msplit())\n\u001b[1;32m      <a href='vscode-notebook-cell:/home/yuto/Documentos/ufabc/TG/teoria-grafos/ep07-dfs-compsFortes.ipynb#W1sZmlsZQ%3D%3D?line=5'>6</a>\u001b[0m   grafo[u]\u001b[39m.\u001b[39mappend(v)\n\u001b[1;32m      <a href='vscode-notebook-cell:/home/yuto/Documentos/ufabc/TG/teoria-grafos/ep07-dfs-compsFortes.ipynb#W1sZmlsZQ%3D%3D?line=7'>8</a>\u001b[0m \u001b[39mreturn\u001b[39;00m grafo\n",
      "\u001b[0;31mValueError\u001b[0m: not enough values to unpack (expected 2, got 0)"
     ]
    }
   ],
   "source": [
    "def cria_grafo(n, m):\n",
    "  grafo = [[] for _ in range(n)]\n",
    "  \n",
    "  for _ in range(m):\n",
    "    u, v = map(int, input().split())\n",
    "    grafo[u].append(v)\n",
    "  \n",
    "  return grafo  \n",
    "\n",
    "def grafo_transposto(grafo):\n",
    "  n = len(grafo)\n",
    "\n",
    "  grafo_transposto = [[] for _ in range(n)]\n",
    "\n",
    "  for u in range(n):\n",
    "      for v in grafo[u]:\n",
    "          grafo_transposto[v].append(u)\n",
    "\n",
    "  return grafo_transposto\n",
    "\n",
    "def dfs(grafo, v, visitado, descoberto, finalizado, tempo):\n",
    "    visitado[v] = True\n",
    "    tempo += 1\n",
    "    descoberto[v] = tempo\n",
    "    \n",
    "    for u in grafo[v]:\n",
    "      if not visitado[u]:\n",
    "        tempo = dfs(grafo, u, visitado, descoberto, finalizado, tempo)\n",
    "    \n",
    "    tempo += 1\n",
    "    finalizado[v] = tempo\n",
    "    return tempo\n",
    "\n",
    "def dfs_transposto(grafo, v, visitado_t, descoberto_t, finalizado_t, tempo_t):\n",
    "    visitado_t[v] = True\n",
    "    tempo_t += 1\n",
    "    descoberto_t[v] = tempo_t\n",
    "    \n",
    "    print(f\"({v}\", end=\" \")\n",
    "\n",
    "    for u in grafo[v]:\n",
    "      if not visitado_t[u]:\n",
    "        tempo_t = dfs(grafo, u, visitado_t, descoberto_t, finalizado_t, tempo_t)\n",
    "    \n",
    "    tempo_t += 1\n",
    "    finalizado_t[v] = tempo_t\n",
    "\n",
    "    print(f\"{v})\", end=\" \")        \n",
    "    \n",
    "    return tempo_t\n",
    " \n",
    "\n",
    "# Encontrar o índice do maior tempo finalização do grafo\n",
    "n, m = map(int, input().split())\n",
    "grafo = cria_grafo(n, m)\n",
    "\n",
    "visitado = [False] * n\n",
    "descoberto = [0] * n\n",
    "finalizado = [0] * n\n",
    "tempo = 0\n",
    "\n",
    "for v in range(n):\n",
    "  if not visitado[v]:      \n",
    "    tempo = dfs(grafo, v, visitado, descoberto, finalizado, tempo)\n",
    "\n",
    "lista_ordenada_finalizados = []\n",
    "\n",
    "for i in range(len(finalizado)):\n",
    "    maior = max(finalizado)\n",
    "    indice = finalizado.index(maior)\n",
    "    lista_ordenada_finalizados.append(indice)\n",
    "    finalizado[indice] = -1 \n",
    "\n",
    "# Grafo Transposto\n",
    "grafo_t = grafo_transposto(grafo)\n",
    "\n",
    "visitado_t = [False] * n\n",
    "descoberto_t = [0] * n\n",
    "finalizado_t = [0] * n\n",
    "tempo_t = 0\n",
    "\n",
    "for v in lista_ordenada_finalizados:\n",
    "  if not visitado_t[v]:      \n",
    "    tempo_t = dfs_transposto(grafo_t, v, visitado_t, descoberto_t, finalizado_t, tempo_t)\n",
    " \n"
   ]
  },
  {
   "cell_type": "code",
   "execution_count": null,
   "metadata": {},
   "outputs": [],
   "source": []
  }
 ],
 "metadata": {
  "kernelspec": {
   "display_name": ".venv",
   "language": "python",
   "name": "python3"
  },
  "language_info": {
   "codemirror_mode": {
    "name": "ipython",
    "version": 3
   },
   "file_extension": ".py",
   "mimetype": "text/x-python",
   "name": "python",
   "nbconvert_exporter": "python",
   "pygments_lexer": "ipython3",
   "version": "3.11.5"
  },
  "orig_nbformat": 4
 },
 "nbformat": 4,
 "nbformat_minor": 2
}
