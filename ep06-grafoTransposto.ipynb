{
 "cells": [
  {
   "cell_type": "markdown",
   "metadata": {},
   "source": [
    "# EP06 - Grafo Transposto"
   ]
  },
  {
   "cell_type": "code",
   "execution_count": 10,
   "metadata": {},
   "outputs": [
    {
     "name": "stdout",
     "output_type": "stream",
     "text": [
      "0: \n",
      "1: 0 3\n",
      "2: \n",
      "3: 0 4\n",
      "4: 1 2\n",
      "5: 2 5\n"
     ]
    }
   ],
   "source": [
    "def cria_grafo(n, m):\n",
    "  grafo = [[] for _ in range(n)]\n",
    "\n",
    "  for _ in range(m):\n",
    "    u, v = map(int, input().split())\n",
    "    grafo[u].append(v)\n",
    "\n",
    "  return grafo  \n",
    "\n",
    "def grafo_transposto(grafo):\n",
    "  n = len(grafo)\n",
    "\n",
    "  grafo_transposto = [[] for _ in range(n)]\n",
    "\n",
    "  for u in range(n):\n",
    "      for v in grafo[u]:\n",
    "          grafo_transposto[v].append(u)\n",
    "\n",
    "  return grafo_transposto\n",
    "\n",
    "def imprime_adjacencia(grafo_transposto):\n",
    "   for index, grafo_transposto in enumerate(grafo_transposto):\n",
    "      print(f\"{index}:\", end=\" \")\n",
    "      print(\" \".join(map(str, grafo_transposto)))\n",
    "\n",
    "n, m = map(int, input().split())\n",
    "\n",
    "grafo = cria_grafo(n, m)\n",
    "grafo_t = grafo_transposto(grafo)\n",
    "\n",
    "imprime_adjacencia(grafo_t)"
   ]
  }
 ],
 "metadata": {
  "kernelspec": {
   "display_name": ".venv",
   "language": "python",
   "name": "python3"
  },
  "language_info": {
   "codemirror_mode": {
    "name": "ipython",
    "version": 3
   },
   "file_extension": ".py",
   "mimetype": "text/x-python",
   "name": "python",
   "nbconvert_exporter": "python",
   "pygments_lexer": "ipython3",
   "version": "3.11.5"
  },
  "orig_nbformat": 4
 },
 "nbformat": 4,
 "nbformat_minor": 2
}
