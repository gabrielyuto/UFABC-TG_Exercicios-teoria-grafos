{
 "cells": [
  {
   "cell_type": "code",
   "execution_count": 1,
   "metadata": {},
   "outputs": [
    {
     "name": "stdout",
     "output_type": "stream",
     "text": [
      "[1, 1, 2, 3, 3, 4, 5, 5, 5, 6, 9]\n"
     ]
    }
   ],
   "source": [
    "lista = [3, 1, 4, 1, 5, 9, 2, 6, 5, 3, 5]\n",
    "\n",
    "# Ordene a lista atual em ordem crescente\n",
    "lista.sort()\n",
    "\n",
    "# Imprima a lista ordenada\n",
    "print(lista)"
   ]
  },
  {
   "cell_type": "code",
   "execution_count": 2,
   "metadata": {},
   "outputs": [
    {
     "name": "stdout",
     "output_type": "stream",
     "text": [
      "[9, 6, 5, 5, 5, 4, 3, 3, 2, 1, 1]\n"
     ]
    }
   ],
   "source": [
    "# Exemplo de uma lista desordenada\n",
    "lista = [3, 1, 4, 1, 5, 9, 2, 6, 5, 3, 5]\n",
    "\n",
    "# Ordene a lista atual em ordem decrescente\n",
    "lista.sort(reverse=True)\n",
    "\n",
    "# Imprima a lista ordenada em ordem decrescente\n",
    "print(lista)"
   ]
  },
  {
   "cell_type": "code",
   "execution_count": 5,
   "metadata": {},
   "outputs": [
    {
     "name": "stdout",
     "output_type": "stream",
     "text": [
      "[9, 6, 5, 5, 5, 4, 3, 3, 2, 1, 1]\n",
      "[0, 1, 2, 3, 4, 5, 6, 7, 8, 9, 10]\n"
     ]
    }
   ],
   "source": [
    "# Exemplo de uma lista\n",
    "lista = [3, 1, 4, 1, 5, 9, 2, 6, 5, 3, 5]\n",
    "\n",
    "# Use a função sorted() com enumerate() para obter os índices em ordem decrescente\n",
    "lista.sort(reverse=True)\n",
    "indices_em_ordem_decrescente = [i for i, _ in sorted(enumerate(lista), key=lambda x: x[1], reverse=True)]\n",
    "\n",
    "# Imprima os índices em ordem decrescente\n",
    "print(lista)\n",
    "print(indices_em_ordem_decrescente)"
   ]
  },
  {
   "cell_type": "code",
   "execution_count": 7,
   "metadata": {},
   "outputs": [
    {
     "ename": "ModuleNotFoundError",
     "evalue": "No module named 'numpy'",
     "output_type": "error",
     "traceback": [
      "\u001b[0;31m---------------------------------------------------------------------------\u001b[0m",
      "\u001b[0;31mModuleNotFoundError\u001b[0m                       Traceback (most recent call last)",
      "\u001b[1;32m/home/yuto/Documentos/ufabc/TG/teoria-grafos/teste.ipynb Cell 4\u001b[0m line \u001b[0;36m1\n\u001b[0;32m----> <a href='vscode-notebook-cell:/home/yuto/Documentos/ufabc/TG/teoria-grafos/teste.ipynb#W3sZmlsZQ%3D%3D?line=0'>1</a>\u001b[0m \u001b[39mimport\u001b[39;00m \u001b[39mnumpy\u001b[39;00m \u001b[39mas\u001b[39;00m \u001b[39mnp\u001b[39;00m\n\u001b[1;32m      <a href='vscode-notebook-cell:/home/yuto/Documentos/ufabc/TG/teoria-grafos/teste.ipynb#W3sZmlsZQ%3D%3D?line=2'>3</a>\u001b[0m \u001b[39m# Exemplo de uma lista\u001b[39;00m\n\u001b[1;32m      <a href='vscode-notebook-cell:/home/yuto/Documentos/ufabc/TG/teoria-grafos/teste.ipynb#W3sZmlsZQ%3D%3D?line=3'>4</a>\u001b[0m lista \u001b[39m=\u001b[39m [\u001b[39m3\u001b[39m, \u001b[39m1\u001b[39m, \u001b[39m4\u001b[39m, \u001b[39m1\u001b[39m, \u001b[39m5\u001b[39m, \u001b[39m9\u001b[39m, \u001b[39m2\u001b[39m, \u001b[39m6\u001b[39m, \u001b[39m5\u001b[39m, \u001b[39m3\u001b[39m, \u001b[39m5\u001b[39m]\n",
      "\u001b[0;31mModuleNotFoundError\u001b[0m: No module named 'numpy'"
     ]
    }
   ],
   "source": [
    "import numpy as np\n",
    "\n",
    "# Exemplo de uma lista\n",
    "lista = [3, 1, 4, 1, 5, 9, 2, 6, 5, 3, 5]\n",
    "\n",
    "# Use a função argsort do NumPy para obter os índices em ordem crescente\n",
    "indices_em_ordem_crescente = np.argsort(lista)\n",
    "\n",
    "# Inverta a lista de índices para obter a ordem decrescente\n",
    "indices_em_ordem_decrescente = indices_em_ordem_crescente[::-1]\n",
    "\n",
    "# Imprima os índices em ordem decrescente\n",
    "print(indices_em_ordem_decrescente)"
   ]
  },
  {
   "cell_type": "code",
   "execution_count": 8,
   "metadata": {},
   "outputs": [
    {
     "name": "stdout",
     "output_type": "stream",
     "text": [
      "Os índices dos maiores valores na lista são: [5]\n"
     ]
    }
   ],
   "source": [
    "lista = [3, 1, 4, 1, 5, 9, 2, 6, 5, 3, 5]\n",
    "\n",
    "# Encontre o maior valor na lista\n",
    "maior_valor = max(lista)\n",
    "\n",
    "# Crie uma lista de índices dos maiores valores\n",
    "indices_maiores_valores = [i for i, valor in enumerate(lista) if valor == maior_valor]\n",
    "\n",
    "# Imprima a lista de índices\n",
    "print(\"Os índices dos maiores valores na lista são:\", indices_maiores_valores)"
   ]
  },
  {
   "cell_type": "code",
   "execution_count": 18,
   "metadata": {},
   "outputs": [
    {
     "name": "stdout",
     "output_type": "stream",
     "text": [
      "0\n",
      "[-1, -1, -1, -1]\n",
      "[2, 3, 1, 0]\n"
     ]
    }
   ],
   "source": [
    "lista = [0, 2, 4, 3]\n",
    "lista_teste = []\n",
    "\n",
    "for i in range(len(lista)):\n",
    "    maior = max(lista)\n",
    "    indice = lista.index(maior)\n",
    "    lista_teste.append(indice)\n",
    "    lista[indice] = -1 \n",
    "\n",
    "print(indice)\n",
    "print(lista)\n",
    "print(lista_teste)\n",
    "# maior_valor = max(lista)"
   ]
  }
 ],
 "metadata": {
  "kernelspec": {
   "display_name": ".venv",
   "language": "python",
   "name": "python3"
  },
  "language_info": {
   "codemirror_mode": {
    "name": "ipython",
    "version": 3
   },
   "file_extension": ".py",
   "mimetype": "text/x-python",
   "name": "python",
   "nbconvert_exporter": "python",
   "pygments_lexer": "ipython3",
   "version": "3.11.5"
  },
  "orig_nbformat": 4
 },
 "nbformat": 4,
 "nbformat_minor": 2
}
