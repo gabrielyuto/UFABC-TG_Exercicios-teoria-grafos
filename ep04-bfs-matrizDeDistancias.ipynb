{
 "cells": [
  {
   "cell_type": "markdown",
   "metadata": {},
   "source": [
    "# Algoritmo DFS - Matriz de distâncias"
   ]
  },
  {
   "cell_type": "code",
   "execution_count": 4,
   "metadata": {},
   "outputs": [
    {
     "name": "stdout",
     "output_type": "stream",
     "text": [
      "defaultdict(<class 'list'>, {0: [1, 4], 1: [0, 2, 4], 2: [1, 3], 3: [2, 4, 5], 4: [0, 1, 3], 5: [3]})\n"
     ]
    }
   ],
   "source": [
    "from collections import defaultdict, deque\n",
    "\n",
    "def constroi_grafo(n, m, arestas):\n",
    "    grafo = defaultdict(list)\n",
    "    for i in range(m):\n",
    "        u, v = arestas[i]\n",
    "        grafo[u].append(v)\n",
    "    return grafo\n",
    "\n",
    "def bfs_matriz_distancias(grafo, n):\n",
    "    matriz_distancias = [[[] for _ in range(n)] for _ in range(n)]\n",
    "    \n",
    "    for i in range(n):\n",
    "        fila = deque()\n",
    "        visitados = [False] * n\n",
    "        distancia = [float('inf')] * n\n",
    "        \n",
    "        fila.append(i)\n",
    "        visitados[i] = True\n",
    "        distancia[i] = 0\n",
    "        \n",
    "        while fila:\n",
    "            u = fila.popleft()\n",
    "            for v in grafo[u]:\n",
    "                if not visitados[v]:\n",
    "                    fila.append(v)\n",
    "                    visitados[v] = True\n",
    "                    distancia[v] = distancia[u] + 1\n",
    "        \n",
    "        for j in range(n):\n",
    "            matriz_distancias[i][j] = distancia[j]\n",
    "    \n",
    "    return matriz_distancias\n",
    "\n",
    "def imprimir_matriz_distancias(matriz_distancias, n):\n",
    "    for i in range(n):\n",
    "        print(f\"{i}: {' '.join(map(str, matriz_distancias[i]))}\")\n",
    "\n",
    "# Execução principal\n",
    "n, m = map(int, input().split())\n",
    "arestas = [tuple(map(int, input().split())) for _ in range(m)]\n",
    "\n",
    "grafo = constroi_grafo(n, m, arestas)\n",
    "\n",
    "matriz_distancias = bfs_matriz_distancias(grafo, n)\n",
    "\n",
    "imprimir_matriz_distancias(matriz_distancias, n)\n"
   ]
  },
  {
   "cell_type": "code",
   "execution_count": 10,
   "metadata": {},
   "outputs": [
    {
     "data": {
      "text/plain": [
       "[[-1, -1, -1, -1, -1, -1],\n",
       " [-1, -1, -1, -1, -1, -1],\n",
       " [-1, -1, -1, -1, -1, -1],\n",
       " [-1, -1, -1, -1, -1, -1],\n",
       " [-1, -1, -1, -1, -1, -1],\n",
       " [-1, -1, -1, -1, -1, -1]]"
      ]
     },
     "execution_count": 10,
     "metadata": {},
     "output_type": "execute_result"
    }
   ],
   "source": [
    "matriz_distancias = [[-1 for _ in range(n)] for _ in range(n)]\n",
    "matriz_distancias"
   ]
  },
  {
   "cell_type": "code",
   "execution_count": 11,
   "metadata": {},
   "outputs": [
    {
     "name": "stdout",
     "output_type": "stream",
     "text": [
      "deque(['A', 'B', 'C', 'D'])\n"
     ]
    }
   ],
   "source": [
    "fila = deque(['A', 'B', 'C'])\n",
    "\n",
    "\n",
    "# Inserindo o elemento D\n",
    "fila.append('D')\n",
    "\n",
    "\n",
    "# deque(['A', 'B', 'C', 'D'])\n",
    "print(fila)"
   ]
  },
  {
   "cell_type": "code",
   "execution_count": 13,
   "metadata": {},
   "outputs": [
    {
     "name": "stdout",
     "output_type": "stream",
     "text": [
      "[[], [2, 3], [3]]\n"
     ]
    }
   ],
   "source": [
    "n, m = (int(tmp) for tmp in input().split(\" \"))\n",
    "adj = [[] for _ in range(n)]\n",
    "\n",
    "for k in range(m):\n",
    "  i, j = (int(tmp) for tmp in input().split(\" \"))\n",
    "  adj[i].append(j)\n",
    "\n",
    "print(adj)  "
   ]
  }
 ],
 "metadata": {
  "kernelspec": {
   "display_name": ".venv",
   "language": "python",
   "name": "python3"
  },
  "language_info": {
   "codemirror_mode": {
    "name": "ipython",
    "version": 3
   },
   "file_extension": ".py",
   "mimetype": "text/x-python",
   "name": "python",
   "nbconvert_exporter": "python",
   "pygments_lexer": "ipython3",
   "version": "3.11.5"
  },
  "orig_nbformat": 4
 },
 "nbformat": 4,
 "nbformat_minor": 2
}
