{
 "cells": [
  {
   "cell_type": "markdown",
   "metadata": {},
   "source": [
    "# Busca em Profundidade (Depth-first-search - DFS)"
   ]
  },
  {
   "cell_type": "code",
   "execution_count": 18,
   "metadata": {},
   "outputs": [
    {
     "name": "stdout",
     "output_type": "stream",
     "text": [
      "[1, 2, 9, 4, 3, 10]\n",
      "\n",
      "[8, 7, 12, 5, 6, 11]\n"
     ]
    }
   ],
   "source": [
    "# Inicialização grafo (n: número de vértices, m: número de arcos )\n",
    "n, m = (int(tmp) for tmp in input().split(\" \"))\n",
    "adj = [[] for _ in range(n)]\n",
    "\n",
    "for k in range(m):\n",
    "  i, j = (int(tmp) for tmp in input().split(\" \"))\n",
    "  adj[i].append(j)\n",
    "\n",
    "# Inicialização dos vértices\n",
    "BRANCO = 1\n",
    "CINZA = 2\n",
    "PRETO = 3\n",
    "\n",
    "lista_tempos_iniciais = [0] * n\n",
    "lista_tempos_finais = [0] * n\n",
    "lista_cores_vertices = [0] * n\n",
    "\n",
    "# Método visita DFS\n",
    "def visitaDfs(u):\n",
    "    global tempo \n",
    "    tempo += 1\n",
    "    lista_tempos_iniciais[u] = tempo\n",
    "    lista_cores_vertices[u] = CINZA\n",
    "\n",
    "    for v in adj[u]:\n",
    "      if (lista_cores_vertices[v] == BRANCO):\n",
    "        visitaDfs(v)\n",
    "    tempo += 1\n",
    "    lista_tempos_finais[u] = tempo\n",
    "    lista_cores_vertices[u] = PRETO \n",
    "\n",
    "# Inicio do DFS\n",
    "for v in range(n):\n",
    "  lista_cores_vertices[v] = BRANCO\n",
    "tempo = 0\n",
    "\n",
    "for v in range(n):\n",
    "  if(lista_cores_vertices[v] == BRANCO):\n",
    "    visitaDfs(v)\n",
    "\n",
    "print(lista_tempos_iniciais)\n",
    "print('')\n",
    "print(lista_tempos_finais)        \n"
   ]
  },
  {
   "cell_type": "code",
   "execution_count": null,
   "metadata": {},
   "outputs": [],
   "source": []
  },
  {
   "cell_type": "markdown",
   "metadata": {},
   "source": []
  }
 ],
 "metadata": {
  "kernelspec": {
   "display_name": ".venv",
   "language": "python",
   "name": "python3"
  },
  "language_info": {
   "codemirror_mode": {
    "name": "ipython",
    "version": 3
   },
   "file_extension": ".py",
   "mimetype": "text/x-python",
   "name": "python",
   "nbconvert_exporter": "python",
   "pygments_lexer": "ipython3",
   "version": "3.11.5"
  },
  "orig_nbformat": 4
 },
 "nbformat": 4,
 "nbformat_minor": 2
}
